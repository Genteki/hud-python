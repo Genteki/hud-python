{
 "cells": [
  {
   "cell_type": "code",
   "execution_count": 1,
   "metadata": {},
   "outputs": [],
   "source": [
    "from hud import gym, load_taskset"
   ]
  },
  {
   "cell_type": "code",
   "execution_count": 3,
   "metadata": {},
   "outputs": [
    {
     "name": "stdout",
     "output_type": "stream",
     "text": [
      "Total tasks in OSWorld: 369\n",
      "Task prompt: Please help me create a new python file named \"test.py\" via VS Code and save it at \"/home/user/Desktop\".\n"
     ]
    }
   ],
   "source": [
    "taskset = await load_taskset(\"OSWorld-Ubuntu\")\n",
    "print(f\"Total tasks in OSWorld: {len(taskset)}\")\n",
    "\n",
    "test = taskset[2]\n",
    "print(f\"Task prompt: {test.prompt}\")"
   ]
  },
  {
   "cell_type": "code",
   "execution_count": 4,
   "metadata": {},
   "outputs": [
    {
     "name": "stderr",
     "output_type": "stream",
     "text": [
      "2025-05-26 19:25:43,698 - hud.gym - INFO - Creating private environment\n"
     ]
    }
   ],
   "source": [
    "# The Ubuntu environment will take around 2.5 minutes to start, but can be parallelized\n",
    "env = await gym.make(test)"
   ]
  },
  {
   "cell_type": "code",
   "execution_count": null,
   "metadata": {},
   "outputs": [],
   "source": [
    "from hud.agent import ClaudeAgent\n",
    "\n",
    "# Define a new agent each time to reset the message history\n",
    "# Make sure to define the environment variable ANTHROPIC_API_KEY\n",
    "agent = ClaudeAgent()\n",
    "\n",
    "# Initial observation\n",
    "obs, _ = await env.reset()\n",
    "print(f\"Initial observation complete\")\n",
    "\n",
    "# Agent loop\n",
    "for i in range(8):\n",
    "    print(f\"========= Step {i + 1} =========\")\n",
    "    action, done = await agent.predict(obs)\n",
    "    print(f\"Agent's action: {action}\")\n",
    "\n",
    "    obs, reward, terminated, info = await env.step(action)\n",
    "\n",
    "    if done or terminated:\n",
    "        break"
   ]
  },
  {
   "cell_type": "code",
   "execution_count": 31,
   "metadata": {},
   "outputs": [],
   "source": [
    "# Evaluate environment state\n",
    "result = await env.evaluate()"
   ]
  },
  {
   "cell_type": "code",
   "execution_count": 32,
   "metadata": {},
   "outputs": [],
   "source": [
    "# Make sure to close environment to avoid being charged for idle time\n",
    "await env.close()"
   ]
  },
  {
   "cell_type": "markdown",
   "metadata": {},
   "source": [
    "Paralell runs for the whole dataset"
   ]
  },
  {
   "cell_type": "code",
   "execution_count": 26,
   "metadata": {},
   "outputs": [],
   "source": [
    "\n",
    "from hud import run_job\n",
    "taskset = await load_taskset(\"OSWorld-Ubuntu\")\n",
    "job = await run_job(ClaudeAgent, taskset, \"osworld-test\", max_steps_per_task=35, max_concurrent_tasks=20, auto_reply_question=True)"
   ]
  },
  {
   "cell_type": "code",
   "execution_count": null,
   "metadata": {},
   "outputs": [],
   "source": [
    "await job.get_analytics()"
   ]
  }
 ],
 "metadata": {
  "kernelspec": {
   "display_name": ".venv",
   "language": "python",
   "name": "python3"
  },
  "language_info": {
   "codemirror_mode": {
    "name": "ipython",
    "version": 3
   },
   "file_extension": ".py",
   "mimetype": "text/x-python",
   "name": "python",
   "nbconvert_exporter": "python",
   "pygments_lexer": "ipython3",
   "version": "3.12.3"
  }
 },
 "nbformat": 4,
 "nbformat_minor": 2
}
