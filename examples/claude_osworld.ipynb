{
 "cells": [
  {
   "cell_type": "code",
   "execution_count": null,
   "metadata": {},
   "outputs": [],
   "source": [
    "%load_ext autoreload\n",
    "%autoreload 2\n",
    "\n",
    "import os\n",
    "import logging\n",
    "\n",
    "from dotenv import load_dotenv\n",
    "load_dotenv()\n",
    "\n",
    "from hud.adapters.claude.adapter import ClaudeAdapter\n",
    "from hud.agent.claude import ClaudeAgent\n",
    "from hud.taskset import TaskSet\n",
    "from hud import gym\n",
    "from hud.types import Gym\n",
    "from hud.job import Job\n",
    "\n",
    "\n",
    "from anthropic import Anthropic"
   ]
  },
  {
   "cell_type": "code",
   "execution_count": 2,
   "metadata": {},
   "outputs": [],
   "source": [
    "# Log only warnings and errors\n",
    "logging.basicConfig(level=logging.WARNING)"
   ]
  },
  {
   "cell_type": "code",
   "execution_count": null,
   "metadata": {},
   "outputs": [],
   "source": [
    "taskset = await TaskSet.load(taskset_id=\"OSWorld-Ubuntu-Links\")\n",
    "\n",
    "print(f\"Total tasks in OSWorld: {len(taskset.tasks)}\")"
   ]
  },
  {
   "cell_type": "code",
   "execution_count": 4,
   "metadata": {},
   "outputs": [],
   "source": [
    "# Set gym name and convert to SDK01 (TODO: should be done server side)\n",
    "for task in taskset.tasks:\n",
    "    task.gym = Gym(name_or_id=\"Local-OSWorld-Ubuntu\")\n",
    "    task.convert_sdk01()"
   ]
  },
  {
   "cell_type": "code",
   "execution_count": null,
   "metadata": {},
   "outputs": [],
   "source": [
    "# (optional) create a job that will host all evaluations\n",
    "job = await Job.create(name=\"Claude-test-OSWorld\", gym_id=\"OSWorld-Ubuntu\")\n",
    "\n",
    "# Load Task 1 of OSWorld\n",
    "# It may take around ~4 minutes to initialize the OSWorld environment and reset to a task\n",
    "env = await gym.make(taskset.tasks[1], job_id=job.id)"
   ]
  },
  {
   "cell_type": "code",
   "execution_count": null,
   "metadata": {},
   "outputs": [],
   "source": [
    "# reset to a task with an observation (screenshot and text)\n",
    "obs, info = await env.reset()\n",
    "print(f\"Task description: {obs.text}\")"
   ]
  },
  {
   "cell_type": "code",
   "execution_count": null,
   "metadata": {},
   "outputs": [],
   "source": [
    "# agent\n",
    "anthropic = Anthropic(api_key=os.getenv(\"ANTHROPIC_API_KEY\"))\n",
    "agent = ClaudeAgent(anthropic)\n",
    "\n",
    "# agent loop\n",
    "for i in range(8):\n",
    "    print(f\"========= Step {i+1} =========\")\n",
    "    action, done = await agent.predict(obs)\n",
    "    print(f\"Agent's action: {action}\")\n",
    "\n",
    "    if done:\n",
    "        print(\"done\")\n",
    "        break\n",
    "\n",
    "    obs, reward, terminated, info = await env.step(action)\n",
    "\n",
    "    if terminated:\n",
    "        print(\"terminated\")\n",
    "        break\n"
   ]
  },
  {
   "cell_type": "code",
   "execution_count": null,
   "metadata": {},
   "outputs": [],
   "source": [
    "# evaluate environment state\n",
    "result = await env.evaluate()\n",
    "print(f\"Evaluation result: {result[0]['logs']}\")"
   ]
  },
  {
   "cell_type": "code",
   "execution_count": null,
   "metadata": {},
   "outputs": [],
   "source": [
    "# make sure to close environment to avoid being charged for idle time\n",
    "await env.close()"
   ]
  }
 ],
 "metadata": {
  "kernelspec": {
   "display_name": "inspectai",
   "language": "python",
   "name": "python3"
  },
  "language_info": {
   "codemirror_mode": {
    "name": "ipython",
    "version": 3
   },
   "file_extension": ".py",
   "mimetype": "text/x-python",
   "name": "python",
   "nbconvert_exporter": "python",
   "pygments_lexer": "ipython3",
   "version": "3.13.2"
  }
 },
 "nbformat": 4,
 "nbformat_minor": 2
}
