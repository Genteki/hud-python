{
 "cells": [
  {
   "cell_type": "code",
   "execution_count": 1,
   "metadata": {},
   "outputs": [],
   "source": [
    "from hud import gym\n",
    "from hud.utils import stream\n",
    "from hud.task import Task"
   ]
  },
  {
   "cell_type": "markdown",
   "metadata": {},
   "source": [
    "### Browser Task Example"
   ]
  },
  {
   "cell_type": "code",
   "execution_count": 53,
   "metadata": {},
   "outputs": [],
   "source": [
    "# Simple browser task with a single step\n",
    "task = Task(\n",
    "    prompt=\"\"\"Given the set of past transactions (inflows into our account), project our breakeven date given our implied growth rate and our bank balance of $2,003,232 and fixed expenses of 150k per mo. \n",
    "Produce your answer as a value in the cell A1 of a sheet in the spreadsheet. Ensure there is nothing else in the answer sheet. Title this answer sheet “ANSWER”. \n",
    "You may create as many additional sheets as you need to conduct your analysis. If you build a model, put it in its own tab separate from the raw data. \n",
    "\n",
    "\"\"\",\n",
    "    gym=\"hud-browser\",\n",
    "    setup=(\"goto\", \"https://docs.google.com/spreadsheets/d/1eCpEDv9wuVqUuCQBjC4m-LsRZJVeO869TUCPELJApTU/edit?usp=sharing\"),\n",
    "    evaluate=(\"sheet_contains\", \"2025-03-25\")\n",
    ")"
   ]
  },
  {
   "cell_type": "code",
   "execution_count": 57,
   "metadata": {},
   "outputs": [
    {
     "data": {
      "text/html": [
       "\n",
       "    <div style=\"width: 960px; height: 540px; overflow: hidden;\">\n",
       "        <div style=\"transform: scale(0.5); transform-origin: top left;\">\n",
       "            <iframe src=\"https://live.anchorbrowser.io?sessionId=5b23cf64-d1c6-4e37-893b-1a0e0f5c0dca\" width=\"1920\" height=\"1080\" style=\"border: 1px solid #ddd;\">\n",
       "            </iframe>\n",
       "        </div>\n",
       "    </div>\n",
       "    "
      ],
      "text/plain": [
       "<IPython.core.display.HTML object>"
      ]
     },
     "metadata": {},
     "output_type": "display_data"
    },
    {
     "data": {
      "text/plain": [
       "'\\n    <div style=\"width: 960px; height: 540px; overflow: hidden;\">\\n        <div style=\"transform: scale(0.5); transform-origin: top left;\">\\n            <iframe src=\"https://live.anchorbrowser.io?sessionId=5b23cf64-d1c6-4e37-893b-1a0e0f5c0dca\" width=\"1920\" height=\"1080\" style=\"border: 1px solid #ddd;\">\\n            </iframe>\\n        </div>\\n    </div>\\n    '"
      ]
     },
     "execution_count": 57,
     "metadata": {},
     "output_type": "execute_result"
    }
   ],
   "source": [
    "# Create and set up environment with google, takes around 20 seconds\n",
    "env = await gym.make(task)\n",
    "urls = await env.get_urls()\n",
    "\n",
    "# Stream the live view\n",
    "stream(urls[\"live_url\"])"
   ]
  },
  {
   "cell_type": "code",
   "execution_count": 58,
   "metadata": {},
   "outputs": [
    {
     "data": {
      "text/plain": [
       "{'logs': None, 'error': None, 'reward': 1.0}"
      ]
     },
     "execution_count": 58,
     "metadata": {},
     "output_type": "execute_result"
    }
   ],
   "source": [
    "await env.evaluate((\"sheet_contains\", \"2024-01-04\"))"
   ]
  },
  {
   "cell_type": "code",
   "execution_count": 21,
   "metadata": {},
   "outputs": [
    {
     "name": "stdout",
     "output_type": "stream",
     "text": [
      "Initial observation complete\n",
      "========= Step 1 =========\n",
      "Agent's action (CLA): [ScreenshotFetch(type='screenshot')]\n",
      "========= Step 2 =========\n",
      "Agent's action (CLA): [ClickAction(type='click', point=Point(x=261, y=881), selector=None, button='left', pattern=None, hold_keys=None)]\n",
      "========= Step 3 =========\n",
      "Agent's action (CLA): [ClickAction(type='click', point=Point(x=247, y=882), selector=None, button='left', pattern=None, hold_keys=None)]\n",
      "========= Step 4 =========\n",
      "Agent's action (CLA): [ClickAction(type='click', point=Point(x=275, y=882), selector=None, button='left', pattern=None, hold_keys=None)]\n",
      "========= Step 5 =========\n",
      "Agent's action (CLA): [ClickAction(type='click', point=Point(x=275, y=882), selector=None, button='left', pattern=None, hold_keys=None)]\n",
      "========= Step 6 =========\n",
      "Agent's action (CLA): [ClickAction(type='click', point=Point(x=261, y=881), selector=None, button='left', pattern=None, hold_keys=None)]\n",
      "========= Step 7 =========\n",
      "Agent's action (CLA): [ClickAction(type='click', point=Point(x=260, y=882), selector=None, button='left', pattern=None, hold_keys=None)]\n",
      "========= Step 8 =========\n",
      "Agent's action (CLA): [ClickAction(type='click', point=Point(x=361, y=882), selector=None, button='left', pattern=None, hold_keys=None)]\n",
      "========= Step 9 =========\n",
      "Agent's action (CLA): [ClickAction(type='click', point=Point(x=261, y=882), selector=None, button='left', pattern=None, hold_keys=None)]\n",
      "========= Step 10 =========\n",
      "Agent's action (CLA): [ClickAction(type='click', point=Point(x=272, y=882), selector=None, button='left', pattern=None, hold_keys=None)]\n",
      "========= Step 11 =========\n",
      "Agent's action (CLA): [ClickAction(type='click', point=Point(x=95, y=448), selector=None, button='left', pattern=None, hold_keys=None)]\n",
      "========= Step 12 =========\n",
      "Agent's action (CLA): [TypeAction(type='type', text='3', selector=None, enter_after=False)]\n",
      "========= Step 13 =========\n",
      "Agent's action (CLA): [PressAction(type='press', keys=['tab'])]\n",
      "========= Step 14 =========\n",
      "Agent's action (CLA): [TypeAction(type='type', text='2024-01-04', selector=None, enter_after=False)]\n",
      "========= Step 15 =========\n",
      "Agent's action (CLA): [PressAction(type='press', keys=['tab'])]\n",
      "========= Step 16 =========\n",
      "Agent's action (CLA): [TypeAction(type='type', text='=C13*(1+$B$6)', selector=None, enter_after=False)]\n",
      "========= Step 17 =========\n",
      "Agent's action (CLA): [PressAction(type='press', keys=['enter'])]\n",
      "========= Step 18 =========\n",
      "Agent's action (CLA): [TypeAction(type='type', text='4', selector=None, enter_after=False)]\n",
      "========= Step 19 =========\n",
      "Agent's action (CLA): [PressAction(type='press', keys=['tab'])]\n",
      "========= Step 20 =========\n",
      "Agent's action (CLA): [TypeAction(type='type', text='2024-01-05', selector=None, enter_after=False)]\n",
      "========= Step 21 =========\n",
      "Agent's action (CLA): [PressAction(type='press', keys=['tab'])]\n",
      "========= Step 22 =========\n",
      "Agent's action (CLA): [TypeAction(type='type', text='=C14*(1+$B$6)', selector=None, enter_after=False)]\n",
      "========= Step 23 =========\n",
      "Agent's action (CLA): [PressAction(type='press', keys=['enter'])]\n",
      "========= Step 24 =========\n",
      "Agent's action (CLA): [TypeAction(type='type', text='5', selector=None, enter_after=False)]\n",
      "========= Step 25 =========\n",
      "Agent's action (CLA): [PressAction(type='press', keys=['tab'])]\n",
      "========= Step 26 =========\n",
      "Agent's action (CLA): [TypeAction(type='type', text='2024-01-06', selector=None, enter_after=False)]\n",
      "========= Step 27 =========\n",
      "Agent's action (CLA): [PressAction(type='press', keys=['tab'])]\n",
      "========= Step 28 =========\n",
      "Agent's action (CLA): [TypeAction(type='type', text='=C15*(1+$B$6)', selector=None, enter_after=False)]\n",
      "========= Step 29 =========\n",
      "Agent's action (CLA): [PressAction(type='press', keys=['enter'])]\n",
      "========= Step 30 =========\n",
      "Agent's action (CLA): [TypeAction(type='type', text='6', selector=None, enter_after=False)]\n",
      "========= Step 31 =========\n",
      "Agent's action (CLA): [PressAction(type='press', keys=['tab'])]\n",
      "========= Step 32 =========\n",
      "Agent's action (CLA): [TypeAction(type='type', text='2024-01-07', selector=None, enter_after=False)]\n",
      "========= Step 33 =========\n",
      "Agent's action (CLA): [PressAction(type='press', keys=['tab'])]\n",
      "========= Step 34 =========\n",
      "Agent's action (CLA): [TypeAction(type='type', text='=C16*(1+$B$6)', selector=None, enter_after=False)]\n",
      "========= Step 35 =========\n",
      "Agent's action (CLA): [PressAction(type='press', keys=['enter'])]\n",
      "========= Step 36 =========\n",
      "Agent's action (CLA): [ClickAction(type='click', point=Point(x=399, y=428), selector=None, button='left', pattern=None, hold_keys=None)]\n",
      "========= Step 37 =========\n",
      "Agent's action (CLA): [ClickAction(type='click', point=Point(x=399, y=450), selector=None, button='left', pattern=None, hold_keys=None)]\n"
     ]
    },
    {
     "name": "stderr",
     "output_type": "stream",
     "text": [
      "Network error:  from https://orcstaging.hud.so/hud-gym/api/v2/environments/72b82730-c470-41cd-b201-8d5234e623ca/invoke, retrying in 2.00 seconds (attempt 1/4)\n",
      "HTTP error from HUD SDK: Request failed: Failed to execute step: Async passthrough error: Request failed: Step execution failed: BrowserType.connect_over_cdp: WebSocket error: wss://connect.anchorbrowser.io/ 404 Not Found\n",
      "{\"error\":{\"code\":404,\"message\":\"Invalid session\"}}\n",
      "\n",
      "Call log:\n",
      "  - <ws connecting> wss://connect.anchorbrowser.io/\n",
      "  -   - <ws unexpected response> wss://connect.anchorbrowser.io/ 404 Not Found\n",
      "{\"error\":{\"code\":404,\"message\":\"Invalid session\"}}\n",
      "  -   - <ws error> wss://connect.anchorbrowser.io/ error WebSocket was closed before the connection was established\n",
      "  -   - <ws connect error> wss://connect.anchorbrowser.io/ WebSocket was closed before the connection was established\n",
      "  -   - <ws disconnected> wss://connect.anchorbrowser.io/ code=1006 reason=\n",
      " | Status: 500 | Response Text: {\"detail\":\"Step execution failed: BrowserType.connect_over_cdp: WebSocket error: wss://connect.anchorbrowser.io/ 404 Not Found\\n{\\\"error\\\":{\\\"code\\\":404,\\\"message\\\":\\\"Invalid session\\\"}}\\n\\nCall log:\\n  - <ws connecting> wss://connect.anchorbrowser.io/\\n  -   - <ws unexpected response> wss://connect.anchorbrowser.io/ 404 Not Found\\n{\\\"error\\\":{\\\"code\\\":404,\\\"message\\\":\\\"Invalid session\\\"}}\\n  -   - <ws error> wss://connect.anchorbrowser.io/ error WebSocket was closed before the connection was established\\n  -   - <ws connect error> wss://connect.anchorbrowser.io/ WebSocket was closed before the connection was established\\n  -   - <ws disconnected> wss://connect.anchorbrowser.io/ code=1006 reason=\\n\"} | Response JSON: {'detail': 'Step execution failed: BrowserType.connect_over_cdp: WebSocket error: wss://connect.anchorbrowser.io/ 404 Not Found\\n{\"error\":{\"code\":404,\"message\":\"Invalid session\"}}\\n\\nCall log:\\n  - <ws connecting> wss://connect.anchorbrowser.io/\\n  -   - <ws unexpected response> wss://connect.anchorbrowser.io/ 404 Not Found\\n{\"error\":{\"code\":404,\"message\":\"Invalid session\"}}\\n  -   - <ws error> wss://connect.anchorbrowser.io/ error WebSocket was closed before the connection was established\\n  -   - <ws connect error> wss://connect.anchorbrowser.io/ WebSocket was closed before the connection was established\\n  -   - <ws disconnected> wss://connect.anchorbrowser.io/ code=1006 reason=\\n'} | Headers: {'content-length': '709', 'content-type': 'application/json', 'date': 'Sun, 27 Apr 2025 19:47:15 GMT', 'server': 'railway-edge', 'x-railway-edge': 'railway/us-west2', 'x-railway-request-id': '6xc7bPgdTX6_BwoxqkoCCA_2678442181'} | URL: https://orcstaging.hud.so/hud-gym/api/v2/environments/72b82730-c470-41cd-b201-8d5234e623ca/invoke | Status: 500 | Response: {\"detail\":\"Failed to execute step: Async passthrough error: Request failed: Step execution failed: BrowserType.connect_over_cdp: WebSocket error: wss://connect.anchorbrowser.io/ 404 Not Found\\n{\\\"error\\\":{\\\"code\\\":404,\\\"message\\\":\\\"Invalid session\\\"}}\\n\\nCall log:\\n  - <ws connecting> wss://connect.anchorbrowser.io/\\n  -   - <ws unexpected response> wss://connect.anchorbrowser.io/ 404 Not Found\\n{\\\"error\\\":{\\\"code\\\":404,\\\"message\\\":\\\"Invalid session\\\"}}\\n  -   - <ws error> wss://connect.anchorbr...\n"
     ]
    },
    {
     "ename": "RequestError",
     "evalue": "Request failed: Failed to execute step: Async passthrough error: Request failed: Step execution failed: BrowserType.connect_over_cdp: WebSocket error: wss://connect.anchorbrowser.io/ 404 Not Found\n{\"error\":{\"code\":404,\"message\":\"Invalid session\"}}\n\nCall log:\n  - <ws connecting> wss://connect.anchorbrowser.io/\n  -   - <ws unexpected response> wss://connect.anchorbrowser.io/ 404 Not Found\n{\"error\":{\"code\":404,\"message\":\"Invalid session\"}}\n  -   - <ws error> wss://connect.anchorbrowser.io/ error WebSocket was closed before the connection was established\n  -   - <ws connect error> wss://connect.anchorbrowser.io/ WebSocket was closed before the connection was established\n  -   - <ws disconnected> wss://connect.anchorbrowser.io/ code=1006 reason=\n | Status: 500 | Response Text: {\"detail\":\"Step execution failed: BrowserType.connect_over_cdp: WebSocket error: wss://connect.anchorbrowser.io/ 404 Not Found\\n{\\\"error\\\":{\\\"code\\\":404,\\\"message\\\":\\\"Invalid session\\\"}}\\n\\nCall log:\\n  - <ws connecting> wss://connect.anchorbrowser.io/\\n  -   - <ws unexpected response> wss://connect.anchorbrowser.io/ 404 Not Found\\n{\\\"error\\\":{\\\"code\\\":404,\\\"message\\\":\\\"Invalid session\\\"}}\\n  -   - <ws error> wss://connect.anchorbrowser.io/ error WebSocket was closed before the connection was established\\n  -   - <ws connect error> wss://connect.anchorbrowser.io/ WebSocket was closed before the connection was established\\n  -   - <ws disconnected> wss://connect.anchorbrowser.io/ code=1006 reason=\\n\"} | Response JSON: {'detail': 'Step execution failed: BrowserType.connect_over_cdp: WebSocket error: wss://connect.anchorbrowser.io/ 404 Not Found\\n{\"error\":{\"code\":404,\"message\":\"Invalid session\"}}\\n\\nCall log:\\n  - <ws connecting> wss://connect.anchorbrowser.io/\\n  -   - <ws unexpected response> wss://connect.anchorbrowser.io/ 404 Not Found\\n{\"error\":{\"code\":404,\"message\":\"Invalid session\"}}\\n  -   - <ws error> wss://connect.anchorbrowser.io/ error WebSocket was closed before the connection was established\\n  -   - <ws connect error> wss://connect.anchorbrowser.io/ WebSocket was closed before the connection was established\\n  -   - <ws disconnected> wss://connect.anchorbrowser.io/ code=1006 reason=\\n'} | Headers: {'content-length': '709', 'content-type': 'application/json', 'date': 'Sun, 27 Apr 2025 19:47:15 GMT', 'server': 'railway-edge', 'x-railway-edge': 'railway/us-west2', 'x-railway-request-id': '6xc7bPgdTX6_BwoxqkoCCA_2678442181'} | Status: 500 | Response Text: {\"detail\":\"Failed to execute step: Async passthrough error: Request failed: Step execution failed: BrowserType.connect_over_cdp: WebSocket error: wss://connect.anchorbrowser.io/ 404 Not Found\\n{\\\"error\\\":{\\\"code\\\":404,\\\"message\\\":\\\"Invalid session\\\"}}\\n\\nCall log:\\n  - <ws connecting> wss://connect.anchorbrowser.io/\\n  -   - <ws unexpected response> wss://connect.anchorbrowser.io/ 404 Not Found\\n{\\\"error\\\":{\\\"code\\\":404,\\\"message\\\":\\\"Invalid session\\\"}}\\n  -   - <ws error> wss://connect.anchorbrowser.io/ error WebSocket was closed before the connection was established\\n  -   - <ws connect error> wss://connect.anchorbrowser.io/ WebSocket was closed before the connection was established\\n  -   - <ws disconnected> wss://connect.anchorbrowser.io/ code=1006 reason=\\n | Status: 500 | Response Text: {\\\"detail\\\":\\\"Step execution failed: BrowserType.connect_over_cdp: WebSocket error: wss://connect.anchorbrowser.io/ 404 Not Found\\\\n{\\\\\\\"error\\\\\\\":{\\\\\\\"code\\\\\\\":404,\\\\\\\"message\\\\\\\":\\\\\\\"Invalid session\\\\\\\"}}\\\\n\\\\nCall log:\\\\n  - <ws connecting> wss://connect.anchorbrowser.io/\\\\n  -   - <ws unexpected response> wss://connect.anchorbrowser.io/ 404 Not Found\\\\n{\\\\\\\"error\\\\\\\":{\\\\\\\"code\\\\\\\":404,\\\\\\\"message\\\\\\\":\\\\\\\"Invalid session\\\\\\\"}}\\\\n  -   - <ws error> wss://connect.anchorbrowser.io/ error WebSocket was closed before the connection was established\\\\n  -   - <ws connect error> wss://connect.anchorbrowser.io/ WebSocket was closed before the connection was established\\\\n  -   - <ws disconnected> wss://connect.anchorbrowser.io/ code=1006 reason=\\\\n\\\"} | Response JSON: {'detail': 'Step execution failed: BrowserType.connect_over_cdp: WebSocket error: wss://connect.anchorbrowser.io/ 404 Not Found\\\\n{\\\"error\\\":{\\\"code\\\":404,\\\"message\\\":\\\"Invalid session\\\"}}\\\\n\\\\nCall log:\\\\n  - <ws connecting> wss://connect.anchorbrowser.io/\\\\n  -   - <ws unexpected response> wss://connect.anchorbrowser.io/ 404 Not Found\\\\n{\\\"error\\\":{\\\"code\\\":404,\\\"message\\\":\\\"Invalid session\\\"}}\\\\n  -   - <ws error> wss://connect.anchorbrowser.io/ error WebSocket was closed before the connection was established\\\\n  -   - <ws connect error> wss://connect.anchorbrowser.io/ WebSocket was closed before the connection was established\\\\n  -   - <ws disconnected> wss://connect.anchorbrowser.io/ code=1006 reason=\\\\n'} | Headers: {'content-length': '709', 'content-type': 'application/json', 'date': 'Sun, 27 Apr 2025 19:47:15 GMT', 'server': 'railway-edge', 'x-railway-edge': 'railway/us-west2', 'x-railway-request-id': '6xc7bPgdTX6_BwoxqkoCCA_2678442181'}\"} | Response JSON: {'detail': 'Failed to execute step: Async passthrough error: Request failed: Step execution failed: BrowserType.connect_over_cdp: WebSocket error: wss://connect.anchorbrowser.io/ 404 Not Found\\n{\"error\":{\"code\":404,\"message\":\"Invalid session\"}}\\n\\nCall log:\\n  - <ws connecting> wss://connect.anchorbrowser.io/\\n  -   - <ws unexpected response> wss://connect.anchorbrowser.io/ 404 Not Found\\n{\"error\":{\"code\":404,\"message\":\"Invalid session\"}}\\n  -   - <ws error> wss://connect.anchorbrowser.io/ error WebSocket was closed before the connection was established\\n  -   - <ws connect error> wss://connect.anchorbrowser.io/ WebSocket was closed before the connection was established\\n  -   - <ws disconnected> wss://connect.anchorbrowser.io/ code=1006 reason=\\n | Status: 500 | Response Text: {\"detail\":\"Step execution failed: BrowserType.connect_over_cdp: WebSocket error: wss://connect.anchorbrowser.io/ 404 Not Found\\\\n{\\\\\"error\\\\\":{\\\\\"code\\\\\":404,\\\\\"message\\\\\":\\\\\"Invalid session\\\\\"}}\\\\n\\\\nCall log:\\\\n  - <ws connecting> wss://connect.anchorbrowser.io/\\\\n  -   - <ws unexpected response> wss://connect.anchorbrowser.io/ 404 Not Found\\\\n{\\\\\"error\\\\\":{\\\\\"code\\\\\":404,\\\\\"message\\\\\":\\\\\"Invalid session\\\\\"}}\\\\n  -   - <ws error> wss://connect.anchorbrowser.io/ error WebSocket was closed before the connection was established\\\\n  -   - <ws connect error> wss://connect.anchorbrowser.io/ WebSocket was closed before the connection was established\\\\n  -   - <ws disconnected> wss://connect.anchorbrowser.io/ code=1006 reason=\\\\n\"} | Response JSON: {\\'detail\\': \\'Step execution failed: BrowserType.connect_over_cdp: WebSocket error: wss://connect.anchorbrowser.io/ 404 Not Found\\\\n{\"error\":{\"code\":404,\"message\":\"Invalid session\"}}\\\\n\\\\nCall log:\\\\n  - <ws connecting> wss://connect.anchorbrowser.io/\\\\n  -   - <ws unexpected response> wss://connect.anchorbrowser.io/ 404 Not Found\\\\n{\"error\":{\"code\":404,\"message\":\"Invalid session\"}}\\\\n  -   - <ws error> wss://connect.anchorbrowser.io/ error WebSocket was closed before the connection was established\\\\n  -   - <ws connect error> wss://connect.anchorbrowser.io/ WebSocket was closed before the connection was established\\\\n  -   - <ws disconnected> wss://connect.anchorbrowser.io/ code=1006 reason=\\\\n\\'} | Headers: {\\'content-length\\': \\'709\\', \\'content-type\\': \\'application/json\\', \\'date\\': \\'Sun, 27 Apr 2025 19:47:15 GMT\\', \\'server\\': \\'railway-edge\\', \\'x-railway-edge\\': \\'railway/us-west2\\', \\'x-railway-request-id\\': \\'6xc7bPgdTX6_BwoxqkoCCA_2678442181\\'}'} | Headers: {'content-length': '2538', 'content-type': 'application/json', 'date': 'Sun, 27 Apr 2025 19:47:13 GMT', 'server': 'railway-edge', 'x-railway-edge': 'railway/asia-southeast1', 'x-railway-request-id': 'PSv_vRFYSx6ZbXIvzz51Ag_1721921752'}",
     "output_type": "error",
     "traceback": [
      "\u001b[1;31m---------------------------------------------------------------------------\u001b[0m",
      "\u001b[1;31mRequestError\u001b[0m                              Traceback (most recent call last)",
      "Cell \u001b[1;32mIn[21], line 21\u001b[0m\n\u001b[0;32m     18\u001b[0m \u001b[38;5;28mprint\u001b[39m(\u001b[38;5;124mf\u001b[39m\u001b[38;5;124m\"\u001b[39m\u001b[38;5;124mAgent\u001b[39m\u001b[38;5;124m'\u001b[39m\u001b[38;5;124ms action (CLA): \u001b[39m\u001b[38;5;132;01m{\u001b[39;00maction\u001b[38;5;132;01m}\u001b[39;00m\u001b[38;5;124m\"\u001b[39m)\n\u001b[0;32m     20\u001b[0m \u001b[38;5;66;03m# Step the environment with the action\u001b[39;00m\n\u001b[1;32m---> 21\u001b[0m obs, reward, terminated, info \u001b[38;5;241m=\u001b[39m \u001b[38;5;28;01mawait\u001b[39;00m env\u001b[38;5;241m.\u001b[39mstep(action) \u001b[38;5;66;03m# TODO RESPONSE AGENT\u001b[39;00m\n\u001b[0;32m     23\u001b[0m \u001b[38;5;28;01mif\u001b[39;00m terminated \u001b[38;5;129;01mor\u001b[39;00m done:\n\u001b[0;32m     24\u001b[0m     \u001b[38;5;28;01mbreak\u001b[39;00m\n",
      "File \u001b[1;32m~\\Documents\\human-union-data\\SDK\\hud-sdk\\hud\\env\\environment.py:154\u001b[0m, in \u001b[0;36mEnvironment.step\u001b[1;34m(self, actions)\u001b[0m\n\u001b[0;32m    151\u001b[0m \u001b[38;5;28;01mif\u001b[39;00m \u001b[38;5;28mself\u001b[39m\u001b[38;5;241m.\u001b[39m_maybe_store_response(actions):\n\u001b[0;32m    152\u001b[0m     \u001b[38;5;28;01mreturn\u001b[39;00m Observation(text\u001b[38;5;241m=\u001b[39m\u001b[38;5;28mself\u001b[39m\u001b[38;5;241m.\u001b[39mfinal_response), \u001b[38;5;241m0\u001b[39m, \u001b[38;5;28;01mFalse\u001b[39;00m, {}\n\u001b[1;32m--> 154\u001b[0m result, stdout, stderr \u001b[38;5;241m=\u001b[39m \u001b[38;5;28;01mawait\u001b[39;00m \u001b[38;5;28mself\u001b[39m\u001b[38;5;241m.\u001b[39mclient\u001b[38;5;241m.\u001b[39minvoke(\n\u001b[0;32m    155\u001b[0m     HudStyleConfig(function\u001b[38;5;241m=\u001b[39m\u001b[38;5;124m\"\u001b[39m\u001b[38;5;124mstep\u001b[39m\u001b[38;5;124m\"\u001b[39m, args\u001b[38;5;241m=\u001b[39margs)\n\u001b[0;32m    156\u001b[0m )\n\u001b[0;32m    157\u001b[0m \u001b[38;5;28;01mif\u001b[39;00m stdout:\n\u001b[0;32m    158\u001b[0m     logger\u001b[38;5;241m.\u001b[39minfo(\u001b[38;5;124m\"\u001b[39m\u001b[38;5;124mStep produced stdout: \u001b[39m\u001b[38;5;132;01m%s\u001b[39;00m\u001b[38;5;124m\"\u001b[39m, stdout\u001b[38;5;241m.\u001b[39mdecode())\n",
      "File \u001b[1;32m~\\Documents\\human-union-data\\SDK\\hud-sdk\\hud\\env\\remote_client.py:167\u001b[0m, in \u001b[0;36mRemoteClient.invoke\u001b[1;34m(self, config)\u001b[0m\n\u001b[0;32m    163\u001b[0m \u001b[38;5;28;01masync\u001b[39;00m \u001b[38;5;28;01mdef\u001b[39;00m\u001b[38;5;250m \u001b[39m\u001b[38;5;21minvoke\u001b[39m(\u001b[38;5;28mself\u001b[39m, config: HudStyleConfig) \u001b[38;5;241m-\u001b[39m\u001b[38;5;241m>\u001b[39m \u001b[38;5;28mtuple\u001b[39m[Any, \u001b[38;5;28mbytes\u001b[39m, \u001b[38;5;28mbytes\u001b[39m]:\n\u001b[0;32m    164\u001b[0m \u001b[38;5;250m    \u001b[39m\u001b[38;5;124;03m\"\"\"\u001b[39;00m\n\u001b[0;32m    165\u001b[0m \u001b[38;5;124;03m    Invoke a function in the environment.\u001b[39;00m\n\u001b[0;32m    166\u001b[0m \u001b[38;5;124;03m    \"\"\"\u001b[39;00m\n\u001b[1;32m--> 167\u001b[0m     data \u001b[38;5;241m=\u001b[39m \u001b[38;5;28;01mawait\u001b[39;00m make_request(\n\u001b[0;32m    168\u001b[0m         method\u001b[38;5;241m=\u001b[39m\u001b[38;5;124m\"\u001b[39m\u001b[38;5;124mPOST\u001b[39m\u001b[38;5;124m\"\u001b[39m,\n\u001b[0;32m    169\u001b[0m         url\u001b[38;5;241m=\u001b[39m\u001b[38;5;124mf\u001b[39m\u001b[38;5;124m\"\u001b[39m\u001b[38;5;132;01m{\u001b[39;00msettings\u001b[38;5;241m.\u001b[39mbase_url\u001b[38;5;132;01m}\u001b[39;00m\u001b[38;5;124m/v2/environments/\u001b[39m\u001b[38;5;132;01m{\u001b[39;00m\u001b[38;5;28mself\u001b[39m\u001b[38;5;241m.\u001b[39menv_id\u001b[38;5;132;01m}\u001b[39;00m\u001b[38;5;124m/invoke\u001b[39m\u001b[38;5;124m\"\u001b[39m,\n\u001b[0;32m    170\u001b[0m         json\u001b[38;5;241m=\u001b[39mconfig\u001b[38;5;241m.\u001b[39mmodel_dump(),\n\u001b[0;32m    171\u001b[0m         api_key\u001b[38;5;241m=\u001b[39msettings\u001b[38;5;241m.\u001b[39mapi_key,\n\u001b[0;32m    172\u001b[0m     )\n\u001b[0;32m    174\u001b[0m     \u001b[38;5;28;01mreturn\u001b[39;00m data[\u001b[38;5;124m\"\u001b[39m\u001b[38;5;124mresult\u001b[39m\u001b[38;5;124m\"\u001b[39m], b64decode(data[\u001b[38;5;124m\"\u001b[39m\u001b[38;5;124mstdout\u001b[39m\u001b[38;5;124m\"\u001b[39m]), b64decode(data[\u001b[38;5;124m\"\u001b[39m\u001b[38;5;124mstderr\u001b[39m\u001b[38;5;124m\"\u001b[39m])\n",
      "File \u001b[1;32m~\\Documents\\human-union-data\\SDK\\hud-sdk\\hud\\server\\requests.py:183\u001b[0m, in \u001b[0;36mmake_request\u001b[1;34m(method, url, json, api_key, max_retries, retry_delay)\u001b[0m\n\u001b[0;32m    181\u001b[0m     \u001b[38;5;28;01mreturn\u001b[39;00m result\n\u001b[0;32m    182\u001b[0m \u001b[38;5;28;01mexcept\u001b[39;00m httpx\u001b[38;5;241m.\u001b[39mHTTPStatusError \u001b[38;5;28;01mas\u001b[39;00m e:\n\u001b[1;32m--> 183\u001b[0m     \u001b[38;5;28;01mraise\u001b[39;00m RequestError\u001b[38;5;241m.\u001b[39mfrom_http_error(e) \u001b[38;5;28;01mfrom\u001b[39;00m\u001b[38;5;250m \u001b[39m\u001b[38;5;28;01mNone\u001b[39;00m\n\u001b[0;32m    184\u001b[0m \u001b[38;5;28;01mexcept\u001b[39;00m httpx\u001b[38;5;241m.\u001b[39mRequestError \u001b[38;5;28;01mas\u001b[39;00m e:\n\u001b[0;32m    185\u001b[0m     \u001b[38;5;28;01mif\u001b[39;00m attempt \u001b[38;5;241m<\u001b[39m\u001b[38;5;241m=\u001b[39m max_retries:\n",
      "\u001b[1;31mRequestError\u001b[0m: Request failed: Failed to execute step: Async passthrough error: Request failed: Step execution failed: BrowserType.connect_over_cdp: WebSocket error: wss://connect.anchorbrowser.io/ 404 Not Found\n{\"error\":{\"code\":404,\"message\":\"Invalid session\"}}\n\nCall log:\n  - <ws connecting> wss://connect.anchorbrowser.io/\n  -   - <ws unexpected response> wss://connect.anchorbrowser.io/ 404 Not Found\n{\"error\":{\"code\":404,\"message\":\"Invalid session\"}}\n  -   - <ws error> wss://connect.anchorbrowser.io/ error WebSocket was closed before the connection was established\n  -   - <ws connect error> wss://connect.anchorbrowser.io/ WebSocket was closed before the connection was established\n  -   - <ws disconnected> wss://connect.anchorbrowser.io/ code=1006 reason=\n | Status: 500 | Response Text: {\"detail\":\"Step execution failed: BrowserType.connect_over_cdp: WebSocket error: wss://connect.anchorbrowser.io/ 404 Not Found\\n{\\\"error\\\":{\\\"code\\\":404,\\\"message\\\":\\\"Invalid session\\\"}}\\n\\nCall log:\\n  - <ws connecting> wss://connect.anchorbrowser.io/\\n  -   - <ws unexpected response> wss://connect.anchorbrowser.io/ 404 Not Found\\n{\\\"error\\\":{\\\"code\\\":404,\\\"message\\\":\\\"Invalid session\\\"}}\\n  -   - <ws error> wss://connect.anchorbrowser.io/ error WebSocket was closed before the connection was established\\n  -   - <ws connect error> wss://connect.anchorbrowser.io/ WebSocket was closed before the connection was established\\n  -   - <ws disconnected> wss://connect.anchorbrowser.io/ code=1006 reason=\\n\"} | Response JSON: {'detail': 'Step execution failed: BrowserType.connect_over_cdp: WebSocket error: wss://connect.anchorbrowser.io/ 404 Not Found\\n{\"error\":{\"code\":404,\"message\":\"Invalid session\"}}\\n\\nCall log:\\n  - <ws connecting> wss://connect.anchorbrowser.io/\\n  -   - <ws unexpected response> wss://connect.anchorbrowser.io/ 404 Not Found\\n{\"error\":{\"code\":404,\"message\":\"Invalid session\"}}\\n  -   - <ws error> wss://connect.anchorbrowser.io/ error WebSocket was closed before the connection was established\\n  -   - <ws connect error> wss://connect.anchorbrowser.io/ WebSocket was closed before the connection was established\\n  -   - <ws disconnected> wss://connect.anchorbrowser.io/ code=1006 reason=\\n'} | Headers: {'content-length': '709', 'content-type': 'application/json', 'date': 'Sun, 27 Apr 2025 19:47:15 GMT', 'server': 'railway-edge', 'x-railway-edge': 'railway/us-west2', 'x-railway-request-id': '6xc7bPgdTX6_BwoxqkoCCA_2678442181'} | Status: 500 | Response Text: {\"detail\":\"Failed to execute step: Async passthrough error: Request failed: Step execution failed: BrowserType.connect_over_cdp: WebSocket error: wss://connect.anchorbrowser.io/ 404 Not Found\\n{\\\"error\\\":{\\\"code\\\":404,\\\"message\\\":\\\"Invalid session\\\"}}\\n\\nCall log:\\n  - <ws connecting> wss://connect.anchorbrowser.io/\\n  -   - <ws unexpected response> wss://connect.anchorbrowser.io/ 404 Not Found\\n{\\\"error\\\":{\\\"code\\\":404,\\\"message\\\":\\\"Invalid session\\\"}}\\n  -   - <ws error> wss://connect.anchorbrowser.io/ error WebSocket was closed before the connection was established\\n  -   - <ws connect error> wss://connect.anchorbrowser.io/ WebSocket was closed before the connection was established\\n  -   - <ws disconnected> wss://connect.anchorbrowser.io/ code=1006 reason=\\n | Status: 500 | Response Text: {\\\"detail\\\":\\\"Step execution failed: BrowserType.connect_over_cdp: WebSocket error: wss://connect.anchorbrowser.io/ 404 Not Found\\\\n{\\\\\\\"error\\\\\\\":{\\\\\\\"code\\\\\\\":404,\\\\\\\"message\\\\\\\":\\\\\\\"Invalid session\\\\\\\"}}\\\\n\\\\nCall log:\\\\n  - <ws connecting> wss://connect.anchorbrowser.io/\\\\n  -   - <ws unexpected response> wss://connect.anchorbrowser.io/ 404 Not Found\\\\n{\\\\\\\"error\\\\\\\":{\\\\\\\"code\\\\\\\":404,\\\\\\\"message\\\\\\\":\\\\\\\"Invalid session\\\\\\\"}}\\\\n  -   - <ws error> wss://connect.anchorbrowser.io/ error WebSocket was closed before the connection was established\\\\n  -   - <ws connect error> wss://connect.anchorbrowser.io/ WebSocket was closed before the connection was established\\\\n  -   - <ws disconnected> wss://connect.anchorbrowser.io/ code=1006 reason=\\\\n\\\"} | Response JSON: {'detail': 'Step execution failed: BrowserType.connect_over_cdp: WebSocket error: wss://connect.anchorbrowser.io/ 404 Not Found\\\\n{\\\"error\\\":{\\\"code\\\":404,\\\"message\\\":\\\"Invalid session\\\"}}\\\\n\\\\nCall log:\\\\n  - <ws connecting> wss://connect.anchorbrowser.io/\\\\n  -   - <ws unexpected response> wss://connect.anchorbrowser.io/ 404 Not Found\\\\n{\\\"error\\\":{\\\"code\\\":404,\\\"message\\\":\\\"Invalid session\\\"}}\\\\n  -   - <ws error> wss://connect.anchorbrowser.io/ error WebSocket was closed before the connection was established\\\\n  -   - <ws connect error> wss://connect.anchorbrowser.io/ WebSocket was closed before the connection was established\\\\n  -   - <ws disconnected> wss://connect.anchorbrowser.io/ code=1006 reason=\\\\n'} | Headers: {'content-length': '709', 'content-type': 'application/json', 'date': 'Sun, 27 Apr 2025 19:47:15 GMT', 'server': 'railway-edge', 'x-railway-edge': 'railway/us-west2', 'x-railway-request-id': '6xc7bPgdTX6_BwoxqkoCCA_2678442181'}\"} | Response JSON: {'detail': 'Failed to execute step: Async passthrough error: Request failed: Step execution failed: BrowserType.connect_over_cdp: WebSocket error: wss://connect.anchorbrowser.io/ 404 Not Found\\n{\"error\":{\"code\":404,\"message\":\"Invalid session\"}}\\n\\nCall log:\\n  - <ws connecting> wss://connect.anchorbrowser.io/\\n  -   - <ws unexpected response> wss://connect.anchorbrowser.io/ 404 Not Found\\n{\"error\":{\"code\":404,\"message\":\"Invalid session\"}}\\n  -   - <ws error> wss://connect.anchorbrowser.io/ error WebSocket was closed before the connection was established\\n  -   - <ws connect error> wss://connect.anchorbrowser.io/ WebSocket was closed before the connection was established\\n  -   - <ws disconnected> wss://connect.anchorbrowser.io/ code=1006 reason=\\n | Status: 500 | Response Text: {\"detail\":\"Step execution failed: BrowserType.connect_over_cdp: WebSocket error: wss://connect.anchorbrowser.io/ 404 Not Found\\\\n{\\\\\"error\\\\\":{\\\\\"code\\\\\":404,\\\\\"message\\\\\":\\\\\"Invalid session\\\\\"}}\\\\n\\\\nCall log:\\\\n  - <ws connecting> wss://connect.anchorbrowser.io/\\\\n  -   - <ws unexpected response> wss://connect.anchorbrowser.io/ 404 Not Found\\\\n{\\\\\"error\\\\\":{\\\\\"code\\\\\":404,\\\\\"message\\\\\":\\\\\"Invalid session\\\\\"}}\\\\n  -   - <ws error> wss://connect.anchorbrowser.io/ error WebSocket was closed before the connection was established\\\\n  -   - <ws connect error> wss://connect.anchorbrowser.io/ WebSocket was closed before the connection was established\\\\n  -   - <ws disconnected> wss://connect.anchorbrowser.io/ code=1006 reason=\\\\n\"} | Response JSON: {\\'detail\\': \\'Step execution failed: BrowserType.connect_over_cdp: WebSocket error: wss://connect.anchorbrowser.io/ 404 Not Found\\\\n{\"error\":{\"code\":404,\"message\":\"Invalid session\"}}\\\\n\\\\nCall log:\\\\n  - <ws connecting> wss://connect.anchorbrowser.io/\\\\n  -   - <ws unexpected response> wss://connect.anchorbrowser.io/ 404 Not Found\\\\n{\"error\":{\"code\":404,\"message\":\"Invalid session\"}}\\\\n  -   - <ws error> wss://connect.anchorbrowser.io/ error WebSocket was closed before the connection was established\\\\n  -   - <ws connect error> wss://connect.anchorbrowser.io/ WebSocket was closed before the connection was established\\\\n  -   - <ws disconnected> wss://connect.anchorbrowser.io/ code=1006 reason=\\\\n\\'} | Headers: {\\'content-length\\': \\'709\\', \\'content-type\\': \\'application/json\\', \\'date\\': \\'Sun, 27 Apr 2025 19:47:15 GMT\\', \\'server\\': \\'railway-edge\\', \\'x-railway-edge\\': \\'railway/us-west2\\', \\'x-railway-request-id\\': \\'6xc7bPgdTX6_BwoxqkoCCA_2678442181\\'}'} | Headers: {'content-length': '2538', 'content-type': 'application/json', 'date': 'Sun, 27 Apr 2025 19:47:13 GMT', 'server': 'railway-edge', 'x-railway-edge': 'railway/asia-southeast1', 'x-railway-request-id': 'PSv_vRFYSx6ZbXIvzz51Ag_1721921752'}"
     ]
    }
   ],
   "source": [
    "from hud.agent import ClaudeAgent, OperatorAgent\n",
    "\n",
    "# Define a new agent each time to reset the message history\n",
    "# Make sure to define the environment variable OPENAI_API_KEY\n",
    "# Use Claude if you don't have access to Operator\n",
    "agent = ClaudeAgent()\n",
    "\n",
    "# Initial observation\n",
    "obs, _ = await env.reset()\n",
    "print(f\"Initial observation complete\")\n",
    "\n",
    "# Agent loop\n",
    "for i in range(50):\n",
    "    print(f\"========= Step {i+1} =========\")\n",
    "\n",
    "    # Use the agent to predict an action\n",
    "    action, done = await agent.predict(obs)\n",
    "    print(f\"Agent's action (CLA): {action}\")\n",
    "    \n",
    "    # Step the environment with the action\n",
    "    obs, reward, terminated, info = await env.step(action) # TODO RESPONSE AGENT\n",
    "\n",
    "    if terminated or done:\n",
    "        break\n"
   ]
  },
  {
   "cell_type": "code",
   "execution_count": 24,
   "metadata": {},
   "outputs": [
    {
     "data": {
      "text/plain": [
       "{'logs': None, 'error': None, 'reward': 0.0}"
      ]
     },
     "execution_count": 24,
     "metadata": {},
     "output_type": "execute_result"
    }
   ],
   "source": [
    "await env.evaluate()"
   ]
  },
  {
   "cell_type": "code",
   "execution_count": 6,
   "metadata": {},
   "outputs": [],
   "source": [
    "await env.close()"
   ]
  },
  {
   "cell_type": "markdown",
   "metadata": {},
   "source": [
    "### Response Task Example"
   ]
  },
  {
   "cell_type": "code",
   "execution_count": null,
   "metadata": {},
   "outputs": [],
   "source": [
    "# Simple response task with a single step\n",
    "task = Task(\n",
    "    prompt=\"What is the capital of France?\",\n",
    "    gym=\"hud-browser\",\n",
    "    setup=(\"goto\", \"https://www.google.com\"),\n",
    "    evaluate=(\"response_includes\", \"Paris\")\n",
    ")"
   ]
  },
  {
   "cell_type": "code",
   "execution_count": null,
   "metadata": {},
   "outputs": [],
   "source": [
    "# Create and set up environment with google, takes around 20 seconds\n",
    "env = await gym.make(task)\n",
    "urls = await env.get_urls()\n",
    "\n",
    "# Stream the live view\n",
    "stream(urls[\"live_url\"])"
   ]
  },
  {
   "cell_type": "code",
   "execution_count": null,
   "metadata": {},
   "outputs": [],
   "source": [
    "from hud.agent import ClaudeAgent, ClaudeAdapter, OperatorAgent, OperatorAdapter\n",
    "\n",
    "# Define a new agent each time to reset the message history\n",
    "# Make sure to define the environment variable OPENAI_API_KEY\n",
    "agent = OperatorAgent(adapter=OperatorAdapter())\n",
    "\n",
    "# Initial observation\n",
    "obs, _ = await env.reset()\n",
    "print(f\"Initial observation complete\")\n",
    "\n",
    "# Agent loop\n",
    "for i in range(8):\n",
    "    print(f\"========= Step {i+1} =========\")\n",
    "\n",
    "    # Use the agent to predict an action\n",
    "    action, done = await agent.predict(obs)\n",
    "    print(f\"Agent's action (CLA): {action}\")\n",
    "    \n",
    "    # Step the environment with the action\n",
    "    # In this case, the final action will have to submit a response\n",
    "    obs, reward, terminated, info = await env.step(action)\n",
    "\n",
    "    if done or terminated:\n",
    "        break\n"
   ]
  },
  {
   "cell_type": "code",
   "execution_count": null,
   "metadata": {},
   "outputs": [],
   "source": [
    "env.final_response"
   ]
  },
  {
   "cell_type": "code",
   "execution_count": null,
   "metadata": {},
   "outputs": [],
   "source": [
    "await env.evaluate()"
   ]
  },
  {
   "cell_type": "markdown",
   "metadata": {},
   "source": [
    "### Response Task without provisioning CUA environments"
   ]
  },
  {
   "cell_type": "code",
   "execution_count": 16,
   "metadata": {},
   "outputs": [],
   "source": [
    "# Response task with qa env\n",
    "task = Task(\n",
    "    prompt=\"What is the capital of France?\",\n",
    "    gym=\"qa\",\n",
    "    evaluate=(\"response_includes\", \"Paris\")\n",
    ")"
   ]
  },
  {
   "cell_type": "code",
   "execution_count": null,
   "metadata": {},
   "outputs": [],
   "source": [
    "env = await gym.make(task)"
   ]
  },
  {
   "cell_type": "code",
   "execution_count": null,
   "metadata": {},
   "outputs": [],
   "source": [
    "from hud.adapters.common.types import ResponseAction\n",
    "await env.step([ResponseAction(text=\"Paris\")])"
   ]
  },
  {
   "cell_type": "code",
   "execution_count": null,
   "metadata": {},
   "outputs": [],
   "source": [
    "await env.evaluate()"
   ]
  }
 ],
 "metadata": {
  "kernelspec": {
   "display_name": ".venv",
   "language": "python",
   "name": "python3"
  },
  "language_info": {
   "codemirror_mode": {
    "name": "ipython",
    "version": 3
   },
   "file_extension": ".py",
   "mimetype": "text/x-python",
   "name": "python",
   "nbconvert_exporter": "python",
   "pygments_lexer": "ipython3",
   "version": "3.12.9"
  }
 },
 "nbformat": 4,
 "nbformat_minor": 2
}
