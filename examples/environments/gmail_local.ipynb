{
 "cells": [
  {
   "cell_type": "code",
   "execution_count": null,
   "metadata": {},
   "outputs": [
    {
     "name": "stderr",
     "output_type": "stream",
     "text": [
      "DEBUG:hud.telemetry.instrumentation.registry:Registered instrumentor: mcp\n",
      "DEBUG:hud.telemetry.instrumentation.registry:MCP instrumentor registered\n",
      "DEBUG:mcp_use.observability.laminar:Laminar API key not found - tracing disabled. Set LAMINAR_PROJECT_API_KEY to enable\n",
      "DEBUG:mcp_use.observability.langfuse:Langfuse API keys not found - tracing disabled. Set LANGFUSE_PUBLIC_KEY and LANGFUSE_SECRET_KEY to enable\n"
     ]
    }
   ],
   "source": [
    "%load_ext autoreload\n",
    "%autoreload 2\n",
    "\n",
    "import logging\n",
    "logging.basicConfig(level=logging.DEBUG)\n",
    "logger = logging.getLogger(__name__)\n",
    "\n",
    "import asyncio\n",
    "import logging\n",
    "from hud.mcp_agent import ClaudeMCPAgent, OpenAIMCPAgent\n",
    "from hud import Task\n",
    "from mcp_use import MCPClient\n",
    "\n",
    "\"\"\"\n",
    "Example: GMail environment - local\n",
    "\n",
    "This example demonstrates the new agent.run(task) interface that can handle:\n",
    "1. Simple string queries\n",
    "2. Full Task objects with setup/evaluate lifecycle\n",
    "\n",
    "Usage:\n",
    "    # First, build and start the gmail environment:\n",
    "    docker build -t hud-gmail .\n",
    "\n",
    "    # Then run this example:\n",
    "    python examples/environments/gmail_local.ipynb\n",
    "\"\"\""
   ]
  },
  {
   "cell_type": "code",
   "execution_count": null,
   "metadata": {},
   "outputs": [
    {
     "name": "stdout",
     "output_type": "stream",
     "text": [
      "🚀 Simple Task Interface Example\n",
      "==================================================\n",
      "📡 Connecting to browser environment...\n",
      "✅ Agent created! Testing both query and task modes...\n",
      "\n",
      "🎯 Example 2: Full Task Lifecycle\n",
      "------------------------------\n",
      "📋 Task: Open Sent mail, search for the Series B pitch deck, forward it to billgates@microsoft.com, and mark the original message as important.\n",
      "⚙️  Setup: {'problem_id': 'forward-series-b-deck-to-billgates'}\n",
      "📊 Evaluate: {'problem_id': 'forward-series-b-deck-to-billgates'}\n",
      "[INFO] 2025-08-01 20:11:05,434 | hud.mcp_agent.base | No active sessions found, creating new ones...\n",
      "[INFO] 2025-08-01 20:11:08,073 | hud.mcp_agent.base | Tools from 'gmail' (pre-filter): ['computer', 'setup', 'evaluate']\n",
      "[INFO] 2025-08-01 20:11:08,074 | hud.mcp_agent.base | Agent initialized with 3 tools: ['computer', 'setup', 'evaluate']\n",
      "[INFO] 2025-08-01 20:11:08,074 | hud.mcp_agent.base | Running agent with prompt: id=None prompt='Open Sent mail, search for the Series B pitch deck, forward it to billgates@microsoft.com, and mark the original message as important.' system_prompt=None gym=CustomGym(type='public', location='local', image_or_build_context='gmail', host_config=None) setup={'problem_id': 'forward-series-b-deck-to-billgates'} evaluate={'problem_id': 'forward-series-b-deck-to-billgates'} config=None sensitive_data={} metadata={'id': 'forward-series-b-deck-to-billgates'} description='Open Sent mail, search for the Series B pitch deck, forward it to billgates@microsoft.com, and mark the original message as important.' gold_file_url=None\n",
      "[INFO] 2025-08-01 20:11:08,074 | hud.mcp_agent.base | type of prompt_or_task: <class 'hud.task.Task'>\n",
      "[INFO] 2025-08-01 20:11:08,074 | hud.mcp_agent.base | Running task with prompt: id=None prompt='Open Sent mail, search for the Series B pitch deck, forward it to billgates@microsoft.com, and mark the original message as important.' system_prompt=None gym=CustomGym(type='public', location='local', image_or_build_context='gmail', host_config=None) setup={'problem_id': 'forward-series-b-deck-to-billgates'} evaluate={'problem_id': 'forward-series-b-deck-to-billgates'} config=None sensitive_data={} metadata={'id': 'forward-series-b-deck-to-billgates'} description='Open Sent mail, search for the Series B pitch deck, forward it to billgates@microsoft.com, and mark the original message as important.' gold_file_url=None\n",
      "[INFO] 2025-08-01 20:11:08,074 | hud.mcp_agent.base | type of prompt_or_task: <class 'hud.task.Task'>\n",
      "[INFO] 2025-08-01 20:11:08,074 | hud.mcp_agent.base | Calling tool 'setup' on server 'gmail' with args: {'problem_id': 'forward-series-b-deck-to-billgates'}\n",
      "[INFO] 2025-08-01 20:11:30,790 | hud.mcp_agent.base | Calling tool 'computer' on server 'gmail' with args: {'action': 'screenshot'}\n"
     ]
    }
   ],
   "source": [
    "\n",
    "\n",
    "print(\"🚀 Gmail Local Example\")\n",
    "print(\"=\" * 50)\n",
    "\n",
    "# Configure MCP client to connect to gmail environment\n",
    "config = {\n",
    "    \"mcpServers\": {\n",
    "        \"gmail\": {\n",
    "            \"command\": \"docker\",\n",
    "            \"args\": [\n",
    "                \"run\",\n",
    "                \"-i\",\n",
    "                \"-p\",\n",
    "                \"6080:6080\",\n",
    "                \"gmail\",\n",
    "            ],\n",
    "        }\n",
    "    }\n",
    "}\n",
    "\n",
    "# Create MCP client and agent\n",
    "print(\"📡 Connecting to browser environment...\")\n",
    "client = MCPClient.from_dict(config)\n",
    "\n",
    "agent = ClaudeMCPAgent(\n",
    "    client=client,\n",
    "    model=\"claude-sonnet-4-20250514\",\n",
    "    allowed_tools=[\"computer\"],\n",
    "    initial_screenshot=True,\n",
    ")"
   ]
  },
  {
   "cell_type": "code",
   "execution_count": null,
   "metadata": {},
   "outputs": [],
   "source": [
    "task_dict = (\n",
    "    {\n",
    "        \"id\": None,\n",
    "        \"prompt\": \"Open Sent mail, search for the Series B pitch deck, forward it to billgates@microsoft.com, and mark the original message as important.\",\n",
    "        \"system_prompt\": None,\n",
    "        \"gym\": {\n",
    "            \"type\": \"public\",\n",
    "            \"location\": \"local\",\n",
    "            \"image_or_build_context\": \"gmail\",\n",
    "            \"host_config\": None,\n",
    "        },\n",
    "        \"setup\": {\"problem_id\":\"forward-series-b-deck-to-billgates\"},\n",
    "        \"evaluate\": {\"problem_id\":\"forward-series-b-deck-to-billgates\"},\n",
    "        \"config\": None,\n",
    "        \"sensitive_data\": {},\n",
    "        \"metadata\": {\"id\": \"forward-series-b-deck-to-billgates\"},\n",
    "        \"description\": \"Open Sent mail, search for the Series B pitch deck, forward it to billgates@microsoft.com, and mark the original message as important.\",\n",
    "    }\n",
    ")\n",
    "\n",
    "task = Task(**task_dict)\n",
    "\n",
    "print(f\"📋 Task: {task.prompt}\")\n",
    "print(f\"⚙️  Setup: {task.setup}\")\n",
    "print(f\"📊 Evaluate: {task.evaluate}\")"
   ]
  },
  {
   "cell_type": "code",
   "execution_count": null,
   "metadata": {},
   "outputs": [],
   "source": [
    "eval_result = await agent.run(task, max_steps=10)\n",
    "print(f\"🎉 Task Result: {eval_result}\")\n",
    "\n",
    "# Show formatted results\n",
    "reward = eval_result.get(\"reward\", 0.0) if isinstance(eval_result, dict) else 0.0\n",
    "success = reward > 0.5\n",
    "info = eval_result.get(\"info\", {}) if isinstance(eval_result, dict) else {}\n",
    "\n",
    "print(f\"\\n📈 Task Performance:\")\n",
    "print(f\"   ✅ Success: {success}\")\n",
    "print(f\"   🏆 Reward: {reward}\")\n",
    "print(f\"   📝 Info: {info}\")"
   ]
  },
  {
   "cell_type": "code",
   "execution_count": null,
   "metadata": {},
   "outputs": [],
   "source": [
    "print(\"\\n🧹 Cleaning up...\")\n",
    "await client.close_all_sessions()\n",
    "print(\"✅ Done!\")"
   ]
  }
 ],
 "metadata": {
  "kernelspec": {
   "display_name": ".venv",
   "language": "python",
   "name": "python3"
  },
  "language_info": {
   "codemirror_mode": {
    "name": "ipython",
    "version": 3
   },
   "file_extension": ".py",
   "mimetype": "text/x-python",
   "name": "python",
   "nbconvert_exporter": "python",
   "pygments_lexer": "ipython3",
   "version": "3.12.9"
  }
 },
 "nbformat": 4,
 "nbformat_minor": 2
}
