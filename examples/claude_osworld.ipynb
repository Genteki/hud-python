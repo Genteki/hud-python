{
 "cells": [
  {
   "cell_type": "code",
   "execution_count": 1,
   "metadata": {},
   "outputs": [],
   "source": [
    "%load_ext autoreload\n",
    "%autoreload 2\n",
    "\n",
    "\n",
    "import os\n",
    "from dotenv import load_dotenv\n",
    "load_dotenv()\n",
    "\n",
    "from pprint import pprint\n",
    "from hud import HUDClient\n",
    "from hud.adapters.claude.adapter import ClaudeAdapter\n",
    "from agent.claude import ClaudeAgent\n",
    "\n",
    "from anthropic import Anthropic"
   ]
  },
  {
   "cell_type": "code",
   "execution_count": 2,
   "metadata": {},
   "outputs": [],
   "source": [
    "# initialize HUD client\n",
    "client = HUDClient(api_key=os.getenv(\"HUD_API_KEY\"))\n",
    "\n",
    "# initalize Claude Computer Use agent\n",
    "anthropic = Anthropic(api_key=os.getenv(\"ANTHROPIC_API_KEY\"))\n",
    "\n",
    "# initialize adapter to interact with the environment\n",
    "cua_adapter = ClaudeAdapter()"
   ]
  },
  {
   "cell_type": "code",
   "execution_count": 3,
   "metadata": {},
   "outputs": [
    {
     "name": "stdout",
     "output_type": "stream",
     "text": [
      "Total tasks in OSWorld: 369\n"
     ]
    }
   ],
   "source": [
    "# load OSWorld environment\n",
    "gym = await client.load_gym(id=\"OSWorld-Ubuntu\")\n",
    "\n",
    "# load OSWorld evalset\n",
    "evalset = await client.load_evalset(id=\"OSWorld-Ubuntu-Links\")\n",
    "\n",
    "# create a run that will host all evaluations\n",
    "run = await client.create_run(name=\"Parth-Credentials-Test\", gym=gym, evalset=evalset)\n",
    "\n",
    "# fetch all task ids from the run\n",
    "tasks = await run.fetch_task_ids()\n",
    "print(f\"Total tasks in OSWorld: {len(tasks)}\")"
   ]
  },
  {
   "cell_type": "code",
   "execution_count": null,
   "metadata": {},
   "outputs": [],
   "source": [
    "from pprint import pprint\n",
    "# fetch all task ids from the run\n",
    "tasks = await run.fetch_task_ids()\n",
    "print(f\"Total tasks in OSWorld: {len(tasks)}\")\n",
    "pprint(tasks)"
   ]
  },
  {
   "cell_type": "code",
   "execution_count": 32,
   "metadata": {},
   "outputs": [
    {
     "name": "stdout",
     "output_type": "stream",
     "text": [
      "Task description: Change the representation of colum \"Parameter\" and show in Millions (M) and Billions (B). Keep one decimal and place a white space between the digits and the unit.\n"
     ]
    }
   ],
   "source": [
    "# It may take around ~1 minute to initialize the OSWorld environment and reset to a task\n",
    "\n",
    "# make a HUD environment\n",
    "env = await run.make()\n",
    "await env.wait_for_ready()\n",
    "\n",
    "# # reset to a task with an observation (screenshot and text)\n",
    "obs = await env.reset(task_id=tasks[1])\n",
    "print(f\"Task description: {obs.text}\")"
   ]
  },
  {
   "cell_type": "code",
   "execution_count": 33,
   "metadata": {},
   "outputs": [
    {
     "data": {
      "text/html": [
       "\n",
       "        <div style=\"width: 960px; height: 540px; overflow: hidden;\">\n",
       "            <div style=\"transform: scale(0.5); transform-origin: top left;\">\n",
       "                <iframe src=\"http://3.80.226.170:5910/vnc.html\" width=\"1920\" height=\"1080\" style=\"border: 1px solid #ddd;\">\n",
       "                </iframe>\n",
       "            </div>\n",
       "        </div>\n",
       "        "
      ],
      "text/plain": [
       "<IPython.core.display.HTML object>"
      ]
     },
     "metadata": {},
     "output_type": "display_data"
    }
   ],
   "source": [
    "# load VNC server\n",
    "live_url = await env.get_vnc_url()\n",
    "live_url = f\"http://{live_url}:5910/vnc.html\"\n",
    "\n",
    "client.display_stream(live_url)"
   ]
  },
  {
   "cell_type": "code",
   "execution_count": 16,
   "metadata": {},
   "outputs": [],
   "source": [
    "live_url\n"
   ]
  },
  {
   "cell_type": "code",
   "execution_count": 6,
   "metadata": {},
   "outputs": [
    {
     "name": "stdout",
     "output_type": "stream",
     "text": [
      "Agent's action: {'action': 'screenshot'}\n",
      "Step 1 completed\n",
      "Agent's action: {'action': 'left_click', 'coordinate': [46, 54]}\n",
      "Step 2 completed\n",
      "Agent's action: {'action': 'left_click', 'coordinate': [70, 323]}\n",
      "Step 3 completed\n",
      "Agent's action: {'action': 'left_click', 'coordinate': [826, 35]}\n",
      "Step 4 completed\n",
      "Agent's action: {'action': 'left_click', 'coordinate': [978, 32]}\n",
      "Step 5 completed\n",
      "Agent's action: {'action': 'left_click', 'coordinate': [254, 421]}\n",
      "Step 6 completed\n",
      "Agent's action: {'action': 'double_click', 'coordinate': [254, 421]}\n",
      "Step 7 completed\n",
      "Agent's action: {'action': 'left_click', 'coordinate': [96, 179]}\n",
      "Step 8 completed\n",
      "Agent's action: {'action': 'left_click', 'coordinate': [96, 209]}\n",
      "Step 9 completed\n",
      "Agent's action: {'action': 'left_click', 'coordinate': [80, 370]}\n",
      "Step 10 completed\n",
      "Agent's action: {'action': 'left_click', 'coordinate': [988, 583]}\n",
      "Step 11 completed\n",
      "Agent's action: {'action': 'left_click', 'coordinate': [96, 281]}\n",
      "Step 12 completed\n",
      "Agent's action: {'action': 'left_click', 'coordinate': [988, 667]}\n",
      "Step 13 completed\n",
      "Agent's action: {'action': 'double_click', 'coordinate': [988, 667]}\n",
      "Step 14 completed\n",
      "Agent's action: {'action': 'wait', 'duration': 3}\n",
      "Step 15 completed\n",
      "Agent's action: {'action': 'left_click', 'coordinate': [19, 287]}\n",
      "Step 16 completed\n",
      "Agent's action: {'action': 'left_click', 'coordinate': [46, 54]}\n",
      "Step 17 completed\n",
      "Agent's action: {'action': 'left_click', 'coordinate': [116, 342]}\n",
      "Step 18 completed\n",
      "Agent's action: {'action': 'left_click', 'coordinate': [243, 342]}\n",
      "Step 19 completed\n",
      "Agent's action: {'action': 'left_click', 'coordinate': [720, 574]}\n",
      "Step 20 completed\n",
      "Agent's action: {'action': 'left_click', 'coordinate': [826, 35]}\n",
      "Step 21 completed\n",
      "Agent's action: {'action': 'left_click', 'coordinate': [978, 32]}\n",
      "Step 22 completed\n",
      "Agent's action: {'action': 'left_click', 'coordinate': [96, 179]}\n",
      "Step 23 completed\n",
      "Agent's action: {'action': 'left_click', 'coordinate': [96, 209]}\n",
      "Step 24 completed\n",
      "Agent's action: {'action': 'left_click', 'coordinate': [80, 370]}\n",
      "Step 25 completed\n",
      "Agent's action: {'action': 'left_click', 'coordinate': [164, 377]}\n",
      "Step 26 completed\n",
      "Agent's action: {'action': 'left_click', 'coordinate': [493, 281]}\n",
      "Step 27 completed\n"
     ]
    }
   ],
   "source": [
    "# agent loop\n",
    "agent = ClaudeAgent(anthropic)\n",
    "\n",
    "for i in range(40):\n",
    "    # rescale screenshot to Claude's resolution\n",
    "    screenshot = cua_adapter.rescale(obs.screenshot)\n",
    "\n",
    "    # agent's next action\n",
    "    done, response = await agent.predict(screenshot, obs.text)\n",
    "    if done:\n",
    "        env.final_response = str(response)\n",
    "        break\n",
    "\n",
    "    # convert to HUD action space\n",
    "    actions = cua_adapter.adapt_list([response])\n",
    "    print(f\"Agent's action: {response}\")\n",
    "\n",
    "    # step the environment forward\n",
    "    obs, reward, terminated, info = await env.step(actions)\n",
    "\n",
    "    # drop out if terminated\n",
    "    if terminated:\n",
    "        break\n",
    "    print(f\"Step {i+1} completed\")\n"
   ]
  },
  {
   "cell_type": "code",
   "execution_count": null,
   "metadata": {},
   "outputs": [
    {
     "name": "stdout",
     "output_type": "stream",
     "text": [
      "Evaluation result: logs=\"INFO: Starting evaluation...\\nINFO: Evaluating task 22a4636f-8179-4357-8e87-d1743ece1f81...\\nINFO: Evaluator configuration:\\nINFO:   Metric function(s): compare_pdfs\\nINFO:   Metric conjunction: and\\nINFO:   Result getter: get_googledrive_file\\nINFO:   Expected getter: get_cloud_file\\nINFO:   Metric options: {}\\nINFO: Setting up post-config for evaluation...\\nINFO: Evaluating single metric: compare_pdfs\\nINFO: Getting result state using config: {'dest': 'Meeting-Agenda.pdf', 'path': ['meetings', 'Meeting-Agenda.pdf'], 'type': 'googledrive_file', 'settings_file': 'evaluation_examples/settings/googledrive/settings.yml'}\\nINFO: Current file path: /app/osworld-hud/desktop_env/evaluators/getters/chrome.py\\nINFO: Relative file path: ../osworld-hud/desktop_env/evaluators/getters/chrome.py\\nINFO: access_token is expired. Now: 2025-04-07 15:56:00.236649, token_expiry: 2025-04-07 08:26:22\\nINFO: Refreshing access_token\\nINFO: file_cache is only supported with oauth2client<4.0.0\\nINFO: Getting expected state using config: {'dest': 'gold-Meeting-Agenda.pdf', 'path': 'https://gahludmjcsmszgyufydt.supabase.co//storage/v1/object/public/oswrld/22a4636f-8179-4357-8e87-d1743ece1f81/gold-Meeting-Agenda.pdf', 'type': 'cloud_file'}\\nINFO: Comparing result state with expected state\\nINFO: Final evaluation result: 1.0\\nINFO: Completed evaluation.\\nINFO: Completed evaluation.\\n\" error=None reward=1.0\n",
      "{'error': None,\n",
      " 'logs': 'INFO: Starting evaluation...\\n'\n",
      "         'INFO: Evaluating task 22a4636f-8179-4357-8e87-d1743ece1f81...\\n'\n",
      "         'INFO: Evaluator configuration:\\n'\n",
      "         'INFO:   Metric function(s): compare_pdfs\\n'\n",
      "         'INFO:   Metric conjunction: and\\n'\n",
      "         'INFO:   Result getter: get_googledrive_file\\n'\n",
      "         'INFO:   Expected getter: get_cloud_file\\n'\n",
      "         'INFO:   Metric options: {}\\n'\n",
      "         'INFO: Setting up post-config for evaluation...\\n'\n",
      "         'INFO: Evaluating single metric: compare_pdfs\\n'\n",
      "         \"INFO: Getting result state using config: {'dest': \"\n",
      "         \"'Meeting-Agenda.pdf', 'path': ['meetings', 'Meeting-Agenda.pdf'], \"\n",
      "         \"'type': 'googledrive_file', 'settings_file': \"\n",
      "         \"'evaluation_examples/settings/googledrive/settings.yml'}\\n\"\n",
      "         'INFO: Current file path: '\n",
      "         '/app/osworld-hud/desktop_env/evaluators/getters/chrome.py\\n'\n",
      "         'INFO: Relative file path: '\n",
      "         '../osworld-hud/desktop_env/evaluators/getters/chrome.py\\n'\n",
      "         'INFO: access_token is expired. Now: 2025-04-07 15:56:00.236649, '\n",
      "         'token_expiry: 2025-04-07 08:26:22\\n'\n",
      "         'INFO: Refreshing access_token\\n'\n",
      "         'INFO: file_cache is only supported with oauth2client<4.0.0\\n'\n",
      "         \"INFO: Getting expected state using config: {'dest': \"\n",
      "         \"'gold-Meeting-Agenda.pdf', 'path': \"\n",
      "         \"'https://gahludmjcsmszgyufydt.supabase.co//storage/v1/object/public/oswrld/22a4636f-8179-4357-8e87-d1743ece1f81/gold-Meeting-Agenda.pdf', \"\n",
      "         \"'type': 'cloud_file'}\\n\"\n",
      "         'INFO: Comparing result state with expected state\\n'\n",
      "         'INFO: Final evaluation result: 1.0\\n'\n",
      "         'INFO: Completed evaluation.\\n'\n",
      "         'INFO: Completed evaluation.\\n',\n",
      " 'reward': 1.0}\n"
     ]
    }
   ],
   "source": [
    "# evaluate environment state\n",
    "result = await env.evaluate()\n",
    "print(f\"Evaluation result: {result}\")\n",
    "pprint(result.__dict__)"
   ]
  },
  {
   "cell_type": "code",
   "execution_count": 9,
   "metadata": {},
   "outputs": [],
   "source": [
    "# close environment\n",
    "await env.close()"
   ]
  },
  {
   "cell_type": "code",
   "execution_count": 34,
   "metadata": {},
   "outputs": [
    {
     "name": "stdout",
     "output_type": "stream",
     "text": [
      "Run: Parth-Credentials-Test (ID: f2e98d46-c6c0-478d-9752-ca54ce425735)\n",
      "Created: 2025-04-07 15:43:46\n",
      "------------------------------------------------------------\n",
      "Progress: 1/5 tasks completed (\n",
      "            20.0% completion rate)\n",
      "\n",
      "Status Distribution:\n",
      "running   : █████████████████████████████████████████ 5 (83.3%)\n",
      "terminating: ████████ 1 (16.7%)\n",
      "\n",
      "Average Score: 1.00\n",
      "Score:  1.00/1.00\n"
     ]
    }
   ],
   "source": [
    "analytics = await run.get_analytics()\n",
    "print(analytics)"
   ]
  }
 ],
 "metadata": {
  "kernelspec": {
   "display_name": ".venv",
   "language": "python",
   "name": "python3"
  },
  "language_info": {
   "codemirror_mode": {
    "name": "ipython",
    "version": 3
   },
   "file_extension": ".py",
   "mimetype": "text/x-python",
   "name": "python",
   "nbconvert_exporter": "python",
   "pygments_lexer": "ipython3",
   "version": "3.12.9"
  }
 },
 "nbformat": 4,
 "nbformat_minor": 2
}
