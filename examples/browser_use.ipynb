{
 "cells": [
  {
   "cell_type": "code",
   "execution_count": 14,
   "metadata": {},
   "outputs": [
    {
     "name": "stdout",
     "output_type": "stream",
     "text": [
      "The autoreload extension is already loaded. To reload it, use:\n",
      "  %reload_ext autoreload\n"
     ]
    }
   ],
   "source": [
    "%load_ext autoreload\n",
    "%autoreload 2"
   ]
  },
  {
   "cell_type": "code",
   "execution_count": 15,
   "metadata": {},
   "outputs": [],
   "source": [
    "from hud import gym\n",
    "from hud.utils import stream\n",
    "\n",
    "from browser_use import Agent, Browser, BrowserConfig\n",
    "from langchain_openai import ChatOpenAI"
   ]
  },
  {
   "cell_type": "code",
   "execution_count": 16,
   "metadata": {},
   "outputs": [
    {
     "ename": "NameError",
     "evalue": "name 'env' is not defined",
     "output_type": "error",
     "traceback": [
      "\u001b[1;31m---------------------------------------------------------------------------\u001b[0m",
      "\u001b[1;31mNameError\u001b[0m                                 Traceback (most recent call last)",
      "Cell \u001b[1;32mIn[16], line 1\u001b[0m\n\u001b[1;32m----> 1\u001b[0m env \u001b[38;5;241m=\u001b[39m \u001b[38;5;28;01mawait\u001b[39;00m gym\u001b[38;5;241m.\u001b[39mmake(\u001b[38;5;124m\"\u001b[39m\u001b[38;5;124mLocal-OSWorld-Ubuntu\u001b[39m\u001b[38;5;124m\"\u001b[39m)\n",
      "File \u001b[1;32m~\\Documents\\human-union-data\\SDK\\hud-sdk\\hud\\gym.py:45\u001b[0m, in \u001b[0;36mmake\u001b[1;34m(id_or_name, config, metadata, run_id, api_key)\u001b[0m\n\u001b[0;32m     41\u001b[0m     api_key \u001b[38;5;241m=\u001b[39m settings\u001b[38;5;241m.\u001b[39mapi_key\n\u001b[0;32m     43\u001b[0m \u001b[38;5;66;03m# need to load gym id, since id_or_name can be either\u001b[39;00m\n\u001b[0;32m     44\u001b[0m \u001b[38;5;66;03m# API call to get gym info\u001b[39;00m\n\u001b[1;32m---> 45\u001b[0m \u001b[38;5;28;01mreturn\u001b[39;00m \u001b[43menv\u001b[49m\n",
      "\u001b[1;31mNameError\u001b[0m: name 'env' is not defined"
     ]
    }
   ],
   "source": [
    "env = await gym.make(\"Local-OSWorld-Ubuntu\")"
   ]
  },
  {
   "cell_type": "code",
   "execution_count": 11,
   "metadata": {},
   "outputs": [
    {
     "name": "stdout",
     "output_type": "stream",
     "text": [
      "INFO     [agent] 🚀 Starting task: Compare the price of gpt-4o and DeepSeek-V3\n",
      "INFO     [agent] 📍 Step 1\n"
     ]
    },
    {
     "name": "stderr",
     "output_type": "stream",
     "text": [
      "c:\\Users\\saecl\\Documents\\human-union-data\\SDK\\hud-sdk\\.venv\\Lib\\site-packages\\browser_use\\agent\\message_manager\\views.py:59: LangChainBetaWarning: The function `load` is in beta. It is actively being worked on, so the API may change.\n",
      "  value['message'] = load(value['message'])\n"
     ]
    },
    {
     "name": "stdout",
     "output_type": "stream",
     "text": [
      "WARNING  [browser] Page load failed, continuing...\n",
      "ERROR    [agent] ❌ Result failed 1/3 times:\n",
      " \n",
      "INFO     [agent] 📍 Step 1\n",
      "WARNING  [browser] Page load failed, continuing...\n",
      "ERROR    [agent] ❌ Result failed 2/3 times:\n",
      " \n",
      "INFO     [agent] 📍 Step 1\n",
      "WARNING  [browser] Page load failed, continuing...\n",
      "ERROR    [agent] ❌ Result failed 3/3 times:\n",
      " \n",
      "ERROR    [agent] ❌ Stopping due to 3 consecutive failures\n"
     ]
    },
    {
     "data": {
      "text/plain": [
       "AgentHistoryList(all_results=[], all_model_outputs=[])"
      ]
     },
     "execution_count": 11,
     "metadata": {},
     "output_type": "execute_result"
    }
   ],
   "source": [
    "\n",
    "browser = Browser(\n",
    "    config=BrowserConfig(\n",
    "        cdp_url=env.url\n",
    "    )\n",
    ")\n",
    "\n",
    "agent = Agent(\n",
    "    task=\"Compare the price of gpt-4o and DeepSeek-V3\",\n",
    "    llm=ChatOpenAI(model=\"gpt-4o\"),\n",
    "    browser=browser\n",
    ")\n",
    "await agent.run()\n"
   ]
  },
  {
   "cell_type": "code",
   "execution_count": 12,
   "metadata": {},
   "outputs": [
    {
     "ename": "ValueError",
     "evalue": "live_url cannot be None",
     "output_type": "error",
     "traceback": [
      "\u001b[1;31m---------------------------------------------------------------------------\u001b[0m",
      "\u001b[1;31mValueError\u001b[0m                                Traceback (most recent call last)",
      "Cell \u001b[1;32mIn[12], line 1\u001b[0m\n\u001b[1;32m----> 1\u001b[0m \u001b[43mstream\u001b[49m\u001b[43m(\u001b[49m\u001b[43menv\u001b[49m\u001b[38;5;241;43m.\u001b[39;49m\u001b[43mlive_url\u001b[49m\u001b[43m)\u001b[49m\n",
      "File \u001b[1;32m~\\Documents\\human-union-data\\SDK\\hud-sdk\\hud\\utils\\telemetry.py:9\u001b[0m, in \u001b[0;36mstream\u001b[1;34m(live_url)\u001b[0m\n\u001b[0;32m      5\u001b[0m \u001b[38;5;250m\u001b[39m\u001b[38;5;124;03m\"\"\"\u001b[39;00m\n\u001b[0;32m      6\u001b[0m \u001b[38;5;124;03mDisplay a stream in the HUD system.\u001b[39;00m\n\u001b[0;32m      7\u001b[0m \u001b[38;5;124;03m\"\"\"\u001b[39;00m\n\u001b[0;32m      8\u001b[0m \u001b[38;5;28;01mif\u001b[39;00m live_url \u001b[38;5;129;01mis\u001b[39;00m \u001b[38;5;28;01mNone\u001b[39;00m:\n\u001b[1;32m----> 9\u001b[0m     \u001b[38;5;28;01mraise\u001b[39;00m \u001b[38;5;167;01mValueError\u001b[39;00m(\u001b[38;5;124m\"\u001b[39m\u001b[38;5;124mlive_url cannot be None\u001b[39m\u001b[38;5;124m\"\u001b[39m)\n\u001b[0;32m     10\u001b[0m \u001b[38;5;28;01mfrom\u001b[39;00m\u001b[38;5;250m \u001b[39m\u001b[38;5;21;01mIPython\u001b[39;00m\u001b[38;5;21;01m.\u001b[39;00m\u001b[38;5;21;01mdisplay\u001b[39;00m\u001b[38;5;250m \u001b[39m\u001b[38;5;28;01mimport\u001b[39;00m HTML, display\n\u001b[0;32m     12\u001b[0m html_content \u001b[38;5;241m=\u001b[39m \u001b[38;5;124mf\u001b[39m\u001b[38;5;124m\"\"\"\u001b[39m\n\u001b[0;32m     13\u001b[0m \u001b[38;5;124m<div style=\u001b[39m\u001b[38;5;124m\"\u001b[39m\u001b[38;5;124mwidth: 960px; height: 540px; overflow: hidden;\u001b[39m\u001b[38;5;124m\"\u001b[39m\u001b[38;5;124m>\u001b[39m\n\u001b[0;32m     14\u001b[0m \u001b[38;5;124m    <div style=\u001b[39m\u001b[38;5;124m\"\u001b[39m\u001b[38;5;124mtransform: scale(0.5); transform-origin: top left;\u001b[39m\u001b[38;5;124m\"\u001b[39m\u001b[38;5;124m>\u001b[39m\n\u001b[1;32m   (...)\u001b[0m\n\u001b[0;32m     18\u001b[0m \u001b[38;5;124m</div>\u001b[39m\n\u001b[0;32m     19\u001b[0m \u001b[38;5;124m\u001b[39m\u001b[38;5;124m\"\"\"\u001b[39m\n",
      "\u001b[1;31mValueError\u001b[0m: live_url cannot be None"
     ]
    }
   ],
   "source": [
    "stream(env.live_url)"
   ]
  },
  {
   "cell_type": "code",
   "execution_count": null,
   "metadata": {},
   "outputs": [],
   "source": []
  }
 ],
 "metadata": {
  "kernelspec": {
   "display_name": ".venv",
   "language": "python",
   "name": "python3"
  },
  "language_info": {
   "codemirror_mode": {
    "name": "ipython",
    "version": 3
   },
   "file_extension": ".py",
   "mimetype": "text/x-python",
   "name": "python",
   "nbconvert_exporter": "python",
   "pygments_lexer": "ipython3",
   "version": "3.12.9"
  }
 },
 "nbformat": 4,
 "nbformat_minor": 2
}
