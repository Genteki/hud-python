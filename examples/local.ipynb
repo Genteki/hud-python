{
 "cells": [
  {
   "cell_type": "code",
   "execution_count": null,
   "metadata": {},
   "outputs": [],
   "source": [
    "from hud import gym\n",
    "from hud.types import CustomGym\n",
    "from pathlib import Path\n"
   ]
  },
  {
   "cell_type": "markdown",
   "metadata": {},
   "source": [
    "An example of a local dockerfile as an environment"
   ]
  },
  {
   "cell_type": "code",
   "execution_count": null,
   "metadata": {},
   "outputs": [],
   "source": [
    "dockerfile = \"\"\"\n",
    "FROM govindhud/appflowy-onedockerfile:latest\n",
    "\"\"\"\n",
    "\n",
    "env = await gym.make(CustomGym(\n",
    "    dockerfile=dockerfile,\n",
    "    location=\"local\",\n",
    "    controller_source_dir=Path(\"./environments/novnc_ubuntu\"),\n",
    "    ports=[6080]\n",
    "))"
   ]
  },
  {
   "cell_type": "code",
   "execution_count": null,
   "metadata": {},
   "outputs": [
    {
     "data": {
      "text/plain": [
       "{'stdout': b'total 0\\n', 'stderr': b'', 'exit_code': 0}"
      ]
     },
     "execution_count": 4,
     "metadata": {},
     "output_type": "execute_result"
    }
   ],
   "source": []
  },
  {
   "cell_type": "code",
   "execution_count": 7,
   "metadata": {},
   "outputs": [
    {
     "ename": "InvokeError",
     "evalue": "(b'', b'Traceback (most recent call last):\\n  File \"<string>\", line 2, in <module>\\nModuleNotFoundError: No module named \\'qa_controller\\'\\n')",
     "output_type": "error",
     "traceback": [
      "\u001b[31m---------------------------------------------------------------------------\u001b[39m",
      "\u001b[31mInvokeError\u001b[39m                               Traceback (most recent call last)",
      "\u001b[36mCell\u001b[39m\u001b[36m \u001b[39m\u001b[32mIn[7]\u001b[39m\u001b[32m, line 3\u001b[39m\n\u001b[32m      1\u001b[39m \u001b[38;5;28;01mfrom\u001b[39;00m\u001b[38;5;250m \u001b[39m\u001b[34;01mhud\u001b[39;00m\u001b[34;01m.\u001b[39;00m\u001b[34;01mutils\u001b[39;00m\u001b[34;01m.\u001b[39;00m\u001b[34;01mconfig\u001b[39;00m\u001b[38;5;250m \u001b[39m\u001b[38;5;28;01mimport\u001b[39;00m HudStyleConfig\n\u001b[32m----> \u001b[39m\u001b[32m3\u001b[39m \u001b[38;5;28;01mawait\u001b[39;00m env.client.invoke(HudStyleConfig(\n\u001b[32m      4\u001b[39m     function=\u001b[33m\"\u001b[39m\u001b[33mstep.step\u001b[39m\u001b[33m\"\u001b[39m,\n\u001b[32m      5\u001b[39m     args=[\u001b[33m\"\u001b[39m\u001b[33manswer: what is the capital of the moon?\u001b[39m\u001b[33m\"\u001b[39m]\n\u001b[32m      6\u001b[39m ))\n",
      "\u001b[36mFile \u001b[39m\u001b[32m~/Projects/hud/hud-sdk/hud/env/docker_client.py:281\u001b[39m, in \u001b[36mDockerClient.invoke\u001b[39m\u001b[34m(self, config)\u001b[39m\n\u001b[32m    279\u001b[39m     result = json.loads(stdout_parts[\u001b[32m1\u001b[39m])\n\u001b[32m    280\u001b[39m \u001b[38;5;28;01melse\u001b[39;00m:\n\u001b[32m--> \u001b[39m\u001b[32m281\u001b[39m     \u001b[38;5;28;01mraise\u001b[39;00m InvokeError(stdout, stderr)\n\u001b[32m    283\u001b[39m \u001b[38;5;28;01mreturn\u001b[39;00m result, stdout, stderr\n",
      "\u001b[31mInvokeError\u001b[39m: (b'', b'Traceback (most recent call last):\\n  File \"<string>\", line 2, in <module>\\nModuleNotFoundError: No module named \\'qa_controller\\'\\n')"
     ]
    }
   ],
   "source": [
    "from hud.utils.config import HudStyleConfig\n",
    "\n",
    "await env.client.invoke(HudStyleConfig(\n",
    "    function=\"step.step\",\n",
    "    args=[\"answer: what is the capital of the moon?\"]\n",
    "))"
   ]
  }
 ],
 "metadata": {
  "kernelspec": {
   "display_name": ".venv",
   "language": "python",
   "name": "python3"
  },
  "language_info": {
   "codemirror_mode": {
    "name": "ipython",
    "version": 3
   },
   "file_extension": ".py",
   "mimetype": "text/x-python",
   "name": "python",
   "nbconvert_exporter": "python",
   "pygments_lexer": "ipython3",
   "version": "3.11.5"
  }
 },
 "nbformat": 4,
 "nbformat_minor": 2
}
