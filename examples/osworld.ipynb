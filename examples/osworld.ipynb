{
 "cells": [
  {
   "cell_type": "code",
   "execution_count": 2,
   "metadata": {},
   "outputs": [],
   "source": [
    "import os\n",
    "from dotenv import load_dotenv\n",
    "load_dotenv()\n",
    "\n",
    "from hud import gym, load_taskset"
   ]
  },
  {
   "cell_type": "code",
   "execution_count": null,
   "metadata": {},
   "outputs": [],
   "source": [
    "taskset = await load_taskset(\"OSWorld-Ubuntu-Links\")\n",
    "print(f\"Total tasks in OSWorld: {len(taskset)}\")\n",
    "\n",
    "test = taskset[2]\n",
    "print(f\"Task prompt: {test.prompt}\")"
   ]
  },
  {
   "cell_type": "code",
   "execution_count": 26,
   "metadata": {},
   "outputs": [],
   "source": [
    "# This will take around 2 minutes to start, but can be parallelized\n",
    "env = await gym.make(test)"
   ]
  },
  {
   "cell_type": "code",
   "execution_count": 27,
   "metadata": {},
   "outputs": [],
   "source": [
    "from hud.agent import ClaudeAgent\n",
    "from anthropic import Anthropic\n",
    "\n",
    "anthropic = Anthropic(api_key=os.getenv(\"ANTHROPIC_API_KEY\"))\n",
    "agent = ClaudeAgent(anthropic)"
   ]
  },
  {
   "cell_type": "code",
   "execution_count": null,
   "metadata": {},
   "outputs": [],
   "source": [
    "\n",
    "# Initial observation\n",
    "obs, _, _, _ = await env.step()\n",
    "print(f\"Initial observation complete\")\n",
    "\n",
    "# Agent loop\n",
    "for i in range(8):\n",
    "    print(f\"========= Step {i+1} =========\")\n",
    "    action, done = await agent.predict(obs)\n",
    "    print(f\"Agent's action: {action}\")\n",
    "\n",
    "    if done:\n",
    "        print(\"done\")\n",
    "        break\n",
    "\n",
    "    obs, reward, terminated, info = await env.step(action)\n",
    "\n",
    "    if terminated:\n",
    "        print(\"terminated\")\n",
    "        break\n"
   ]
  },
  {
   "cell_type": "code",
   "execution_count": 31,
   "metadata": {},
   "outputs": [],
   "source": [
    "# Evaluate environment state\n",
    "result = await env.evaluate()"
   ]
  },
  {
   "cell_type": "code",
   "execution_count": 32,
   "metadata": {},
   "outputs": [],
   "source": [
    "# Make sure to close environment to avoid being charged for idle time\n",
    "await env.close()"
   ]
  }
 ],
 "metadata": {
  "kernelspec": {
   "display_name": ".venv",
   "language": "python",
   "name": "python3"
  },
  "language_info": {
   "codemirror_mode": {
    "name": "ipython",
    "version": 3
   },
   "file_extension": ".py",
   "mimetype": "text/x-python",
   "name": "python",
   "nbconvert_exporter": "python",
   "pygments_lexer": "ipython3",
   "version": "3.12.9"
  }
 },
 "nbformat": 4,
 "nbformat_minor": 2
}
